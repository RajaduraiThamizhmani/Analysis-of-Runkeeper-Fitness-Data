{
  "nbformat": 4,
  "nbformat_minor": 0,
  "metadata": {
    "kernelspec": {
      "name": "python3",
      "display_name": "Python 3",
      "language": "python"
    },
    "language_info": {
      "name": "python",
      "version": "3.6.7",
      "mimetype": "text/x-python",
      "codemirror_mode": {
        "name": "ipython",
        "version": 3
      },
      "pygments_lexer": "ipython3",
      "nbconvert_exporter": "python",
      "file_extension": ".py"
    },
    "colab": {
      "name": "Runkeeper_Analysis.ipynb",
      "provenance": [],
      "collapsed_sections": [],
      "include_colab_link": true
    }
  },
  "cells": [
    {
      "cell_type": "markdown",
      "metadata": {
        "id": "view-in-github",
        "colab_type": "text"
      },
      "source": [
        "<a href=\"https://colab.research.google.com/github/RajaduraiThamizhmani/Analysis-of-Runkeeper-Fitness-Data/blob/main/Runkeeper_Analysis.ipynb\" target=\"_parent\"><img src=\"https://colab.research.google.com/assets/colab-badge.svg\" alt=\"Open In Colab\"/></a>"
      ]
    },
    {
      "cell_type": "markdown",
      "metadata": {
        "dc": {
          "key": "4"
        },
        "deletable": false,
        "editable": false,
        "run_control": {
          "frozen": true
        },
        "tags": [
          "context"
        ],
        "id": "Ac8tBWJoczCf"
      },
      "source": [
        "## 1. Obtain and review raw data\n",
        "<p>One day, my old running friend and I were chatting about our running styles, training habits, and achievements, when I suddenly realized that I could take an in-depth analytical look at my training. I have been using a popular GPS fitness tracker called <a href=\"https://runkeeper.com/\">Runkeeper</a> for years and decided it was time to analyze my running data to see how I was doing.</p>\n",
        "<p>Since 2012, I've been using the Runkeeper app, and it's great. One key feature: its excellent data export. Anyone who has a smartphone can download the app and analyze their data like we will in this notebook.</p>\n",
        "<p><img src=\"https://assets.datacamp.com/production/project_727/img/runner_in_blue.jpg\" alt=\"Runner in blue\" title=\"Explore world, explore your data!\"></p>\n",
        "<p>After logging your run, the first step is to export the data from Runkeeper (which I've done already). Then import the data and start exploring to find potential problems. After that, create data cleaning strategies to fix the issues. Finally, analyze and visualize the clean time-series data.</p>\n",
        "<p>I exported seven years worth of my training data, from 2012 through 2018. The data is a CSV file where each row is a single training activity. Let's load and inspect it.</p>"
      ]
    },
    {
      "cell_type": "code",
      "metadata": {
        "colab": {
          "base_uri": "https://localhost:8080/"
        },
        "id": "za-tuhwmdbA5",
        "outputId": "6cdf1d4a-fa03-4209-8124-5f39eebfe1e2"
      },
      "source": [
        "from google.colab import drive\r\n",
        "drive.mount('/content/drive')"
      ],
      "execution_count": 1,
      "outputs": [
        {
          "output_type": "stream",
          "text": [
            "Mounted at /content/drive\n"
          ],
          "name": "stdout"
        }
      ]
    },
    {
      "cell_type": "code",
      "metadata": {
        "id": "Ye4HPURVeAR1"
      },
      "source": [
        "# Import required libraries\r\n",
        "import pandas as pd\r\n",
        "import numpy as np\r\n",
        "import matplotlib.pyplot as plt\r\n",
        "import seaborn as sns"
      ],
      "execution_count": 2,
      "outputs": []
    },
    {
      "cell_type": "code",
      "metadata": {
        "dc": {
          "key": "4"
        },
        "tags": [
          "sample_code"
        ],
        "trusted": false,
        "collapsed": true,
        "id": "ohlDyVzQczDF"
      },
      "source": [
        "# Importing the dataset\n",
        "\n",
        "# Define file containing dataset\n",
        "runkeeper_file = '/content/drive/My Drive/Analyze_Your_Runkeeper_Fitness_Data/datasets/cardioActivities.csv'\n",
        "\n",
        "# Create DataFrame with parse_dates and index_col parameters \n",
        "df_activities = pd.read_csv(runkeeper_file,index_col='Date', parse_dates=True)\n"
      ],
      "execution_count": 3,
      "outputs": []
    },
    {
      "cell_type": "code",
      "metadata": {
        "colab": {
          "base_uri": "https://localhost:8080/",
          "height": 309
        },
        "id": "4p_I9_ickm5e",
        "outputId": "4e2717c1-09af-4963-fad2-889706cb26df"
      },
      "source": [
        "# First look at exported data: select sample of 3 random rows \r\n",
        "df_activities.sample(3)"
      ],
      "execution_count": 4,
      "outputs": [
        {
          "output_type": "execute_result",
          "data": {
            "text/html": [
              "<div>\n",
              "<style scoped>\n",
              "    .dataframe tbody tr th:only-of-type {\n",
              "        vertical-align: middle;\n",
              "    }\n",
              "\n",
              "    .dataframe tbody tr th {\n",
              "        vertical-align: top;\n",
              "    }\n",
              "\n",
              "    .dataframe thead th {\n",
              "        text-align: right;\n",
              "    }\n",
              "</style>\n",
              "<table border=\"1\" class=\"dataframe\">\n",
              "  <thead>\n",
              "    <tr style=\"text-align: right;\">\n",
              "      <th></th>\n",
              "      <th>Activity Id</th>\n",
              "      <th>Type</th>\n",
              "      <th>Route Name</th>\n",
              "      <th>Distance (km)</th>\n",
              "      <th>Duration</th>\n",
              "      <th>Average Pace</th>\n",
              "      <th>Average Speed (km/h)</th>\n",
              "      <th>Calories Burned</th>\n",
              "      <th>Climb (m)</th>\n",
              "      <th>Average Heart Rate (bpm)</th>\n",
              "      <th>Friend's Tagged</th>\n",
              "      <th>Notes</th>\n",
              "      <th>GPX File</th>\n",
              "    </tr>\n",
              "    <tr>\n",
              "      <th>Date</th>\n",
              "      <th></th>\n",
              "      <th></th>\n",
              "      <th></th>\n",
              "      <th></th>\n",
              "      <th></th>\n",
              "      <th></th>\n",
              "      <th></th>\n",
              "      <th></th>\n",
              "      <th></th>\n",
              "      <th></th>\n",
              "      <th></th>\n",
              "      <th></th>\n",
              "      <th></th>\n",
              "    </tr>\n",
              "  </thead>\n",
              "  <tbody>\n",
              "    <tr>\n",
              "      <th>2016-02-04 18:46:32</th>\n",
              "      <td>baed89f0-0754-4b54-a5cb-7959c39459c0</td>\n",
              "      <td>Running</td>\n",
              "      <td>NaN</td>\n",
              "      <td>6.84</td>\n",
              "      <td>40:02</td>\n",
              "      <td>5:51</td>\n",
              "      <td>10.25</td>\n",
              "      <td>478.000000</td>\n",
              "      <td>67</td>\n",
              "      <td>139.0</td>\n",
              "      <td>NaN</td>\n",
              "      <td>TomTom MySports Watch</td>\n",
              "      <td>2016-02-04-184632.gpx</td>\n",
              "    </tr>\n",
              "    <tr>\n",
              "      <th>2016-06-05 17:10:29</th>\n",
              "      <td>adb38948-116e-4000-9598-877aa7b718da</td>\n",
              "      <td>Running</td>\n",
              "      <td>NaN</td>\n",
              "      <td>15.52</td>\n",
              "      <td>1:30:35</td>\n",
              "      <td>5:50</td>\n",
              "      <td>10.28</td>\n",
              "      <td>1073.999999</td>\n",
              "      <td>254</td>\n",
              "      <td>142.0</td>\n",
              "      <td>NaN</td>\n",
              "      <td>TomTom MySports Watch</td>\n",
              "      <td>2016-06-05-171029.gpx</td>\n",
              "    </tr>\n",
              "    <tr>\n",
              "      <th>2016-06-27 18:40:44</th>\n",
              "      <td>20ef6c75-37e5-48cc-ab4a-934347347632</td>\n",
              "      <td>Running</td>\n",
              "      <td>NaN</td>\n",
              "      <td>13.28</td>\n",
              "      <td>1:12:43</td>\n",
              "      <td>5:29</td>\n",
              "      <td>10.96</td>\n",
              "      <td>903.999999</td>\n",
              "      <td>180</td>\n",
              "      <td>146.0</td>\n",
              "      <td>NaN</td>\n",
              "      <td>TomTom MySports Watch</td>\n",
              "      <td>2016-06-27-184044.gpx</td>\n",
              "    </tr>\n",
              "  </tbody>\n",
              "</table>\n",
              "</div>"
            ],
            "text/plain": [
              "                                              Activity Id  ...               GPX File\n",
              "Date                                                       ...                       \n",
              "2016-02-04 18:46:32  baed89f0-0754-4b54-a5cb-7959c39459c0  ...  2016-02-04-184632.gpx\n",
              "2016-06-05 17:10:29  adb38948-116e-4000-9598-877aa7b718da  ...  2016-06-05-171029.gpx\n",
              "2016-06-27 18:40:44  20ef6c75-37e5-48cc-ab4a-934347347632  ...  2016-06-27-184044.gpx\n",
              "\n",
              "[3 rows x 13 columns]"
            ]
          },
          "metadata": {
            "tags": []
          },
          "execution_count": 4
        }
      ]
    },
    {
      "cell_type": "code",
      "metadata": {
        "colab": {
          "base_uri": "https://localhost:8080/"
        },
        "id": "EterRRPrko5P",
        "outputId": "5a72a0b4-7901-4e1c-9809-5453a73e49d2"
      },
      "source": [
        "# Print DataFrame summary\r\n",
        "df_activities.info()"
      ],
      "execution_count": 5,
      "outputs": [
        {
          "output_type": "stream",
          "text": [
            "<class 'pandas.core.frame.DataFrame'>\n",
            "DatetimeIndex: 508 entries, 2018-11-11 14:05:12 to 2012-08-22 18:53:54\n",
            "Data columns (total 13 columns):\n",
            " #   Column                    Non-Null Count  Dtype  \n",
            "---  ------                    --------------  -----  \n",
            " 0   Activity Id               508 non-null    object \n",
            " 1   Type                      508 non-null    object \n",
            " 2   Route Name                1 non-null      object \n",
            " 3   Distance (km)             508 non-null    float64\n",
            " 4   Duration                  508 non-null    object \n",
            " 5   Average Pace              508 non-null    object \n",
            " 6   Average Speed (km/h)      508 non-null    float64\n",
            " 7   Calories Burned           508 non-null    float64\n",
            " 8   Climb (m)                 508 non-null    int64  \n",
            " 9   Average Heart Rate (bpm)  294 non-null    float64\n",
            " 10  Friend's Tagged           0 non-null      float64\n",
            " 11  Notes                     231 non-null    object \n",
            " 12  GPX File                  504 non-null    object \n",
            "dtypes: float64(5), int64(1), object(7)\n",
            "memory usage: 55.6+ KB\n"
          ],
          "name": "stdout"
        }
      ]
    },
    {
      "cell_type": "markdown",
      "metadata": {
        "dc": {
          "key": "12"
        },
        "deletable": false,
        "editable": false,
        "run_control": {
          "frozen": true
        },
        "tags": [
          "context"
        ],
        "id": "k7XbXiGDczDN"
      },
      "source": [
        "## 2. Data preprocessing\n",
        "<p>Lucky for us, the column names Runkeeper provides are informative, and we don't need to rename any columns.</p>\n",
        "<p>But, we do notice missing values using the <code>info()</code> method. What are the reasons for these missing values? It depends. Some heart rate information is missing because I didn't always use a cardio sensor. In the case of the <code>Notes</code> column, it is an optional field that I sometimes left blank. Also, I only used the <code>Route Name</code> column once, and never used the <code>Friend's Tagged</code> column.</p>\n",
        "<p>We'll fill in missing values in the heart rate column to avoid misleading results later, but right now, our first data preprocessing steps will be to:</p>\n",
        "<ul>\n",
        "<li>Remove columns not useful for our analysis.</li>\n",
        "<li>Replace the \"Other\" activity type to \"Unicycling\" because that was always the \"Other\" activity.</li>\n",
        "<li>Count missing values.</li>\n",
        "</ul>"
      ]
    },
    {
      "cell_type": "code",
      "metadata": {
        "dc": {
          "key": "12"
        },
        "tags": [
          "sample_code"
        ],
        "trusted": false,
        "collapsed": true,
        "colab": {
          "base_uri": "https://localhost:8080/",
          "height": 235
        },
        "id": "H-9nl8I1czDP",
        "outputId": "aaccbdfa-ee20-4865-8f9b-63a8ba13634c"
      },
      "source": [
        "# Define list of columns to be deleted\n",
        "cols_to_drop = ['Friend\\'s Tagged','Route Name','GPX File','Activity Id','Calories Burned', 'Notes']\n",
        "\n",
        "# Delete unnecessary columns\n",
        "df_activities.drop(cols_to_drop, axis=1, inplace=True)\n",
        "df_activities.head(5)"
      ],
      "execution_count": 6,
      "outputs": [
        {
          "output_type": "execute_result",
          "data": {
            "text/html": [
              "<div>\n",
              "<style scoped>\n",
              "    .dataframe tbody tr th:only-of-type {\n",
              "        vertical-align: middle;\n",
              "    }\n",
              "\n",
              "    .dataframe tbody tr th {\n",
              "        vertical-align: top;\n",
              "    }\n",
              "\n",
              "    .dataframe thead th {\n",
              "        text-align: right;\n",
              "    }\n",
              "</style>\n",
              "<table border=\"1\" class=\"dataframe\">\n",
              "  <thead>\n",
              "    <tr style=\"text-align: right;\">\n",
              "      <th></th>\n",
              "      <th>Type</th>\n",
              "      <th>Distance (km)</th>\n",
              "      <th>Duration</th>\n",
              "      <th>Average Pace</th>\n",
              "      <th>Average Speed (km/h)</th>\n",
              "      <th>Climb (m)</th>\n",
              "      <th>Average Heart Rate (bpm)</th>\n",
              "    </tr>\n",
              "    <tr>\n",
              "      <th>Date</th>\n",
              "      <th></th>\n",
              "      <th></th>\n",
              "      <th></th>\n",
              "      <th></th>\n",
              "      <th></th>\n",
              "      <th></th>\n",
              "      <th></th>\n",
              "    </tr>\n",
              "  </thead>\n",
              "  <tbody>\n",
              "    <tr>\n",
              "      <th>2018-11-11 14:05:12</th>\n",
              "      <td>Running</td>\n",
              "      <td>10.44</td>\n",
              "      <td>58:40</td>\n",
              "      <td>5:37</td>\n",
              "      <td>10.68</td>\n",
              "      <td>130</td>\n",
              "      <td>159.0</td>\n",
              "    </tr>\n",
              "    <tr>\n",
              "      <th>2018-11-09 15:02:35</th>\n",
              "      <td>Running</td>\n",
              "      <td>12.84</td>\n",
              "      <td>1:14:12</td>\n",
              "      <td>5:47</td>\n",
              "      <td>10.39</td>\n",
              "      <td>168</td>\n",
              "      <td>159.0</td>\n",
              "    </tr>\n",
              "    <tr>\n",
              "      <th>2018-11-04 16:05:00</th>\n",
              "      <td>Running</td>\n",
              "      <td>13.01</td>\n",
              "      <td>1:15:16</td>\n",
              "      <td>5:47</td>\n",
              "      <td>10.37</td>\n",
              "      <td>171</td>\n",
              "      <td>155.0</td>\n",
              "    </tr>\n",
              "    <tr>\n",
              "      <th>2018-11-01 14:03:58</th>\n",
              "      <td>Running</td>\n",
              "      <td>12.98</td>\n",
              "      <td>1:14:25</td>\n",
              "      <td>5:44</td>\n",
              "      <td>10.47</td>\n",
              "      <td>169</td>\n",
              "      <td>158.0</td>\n",
              "    </tr>\n",
              "    <tr>\n",
              "      <th>2018-10-27 17:01:36</th>\n",
              "      <td>Running</td>\n",
              "      <td>13.02</td>\n",
              "      <td>1:12:50</td>\n",
              "      <td>5:36</td>\n",
              "      <td>10.73</td>\n",
              "      <td>170</td>\n",
              "      <td>154.0</td>\n",
              "    </tr>\n",
              "  </tbody>\n",
              "</table>\n",
              "</div>"
            ],
            "text/plain": [
              "                        Type  ...  Average Heart Rate (bpm)\n",
              "Date                          ...                          \n",
              "2018-11-11 14:05:12  Running  ...                     159.0\n",
              "2018-11-09 15:02:35  Running  ...                     159.0\n",
              "2018-11-04 16:05:00  Running  ...                     155.0\n",
              "2018-11-01 14:03:58  Running  ...                     158.0\n",
              "2018-10-27 17:01:36  Running  ...                     154.0\n",
              "\n",
              "[5 rows x 7 columns]"
            ]
          },
          "metadata": {
            "tags": []
          },
          "execution_count": 6
        }
      ]
    },
    {
      "cell_type": "code",
      "metadata": {
        "colab": {
          "base_uri": "https://localhost:8080/",
          "height": 102
        },
        "id": "39lU_r-FrU0N",
        "outputId": "cac9af58-0204-4e87-ac91-0073d398e834"
      },
      "source": [
        "# Count types of training activities\r\n",
        "display(df_activities['Type'].value_counts())"
      ],
      "execution_count": 7,
      "outputs": [
        {
          "output_type": "display_data",
          "data": {
            "text/plain": [
              "Running    459\n",
              "Cycling     29\n",
              "Walking     18\n",
              "Other        2\n",
              "Name: Type, dtype: int64"
            ]
          },
          "metadata": {
            "tags": []
          }
        }
      ]
    },
    {
      "cell_type": "code",
      "metadata": {
        "id": "G7V0IUkytabh"
      },
      "source": [
        "# Rename 'Other' type to 'Unicycling'\r\n",
        "df_activities['Type'] = df_activities['Type'].str.replace('Other','Unicycling')"
      ],
      "execution_count": 8,
      "outputs": []
    },
    {
      "cell_type": "code",
      "metadata": {
        "colab": {
          "base_uri": "https://localhost:8080/"
        },
        "id": "1B7VuCwyrUcr",
        "outputId": "dc425ebf-5f57-4a74-a930-2f064fee9741"
      },
      "source": [
        "# Count missing values for each column\r\n",
        "# ... YOUR CODE FOR TASK 2 ...\r\n",
        "df_activities.isnull().sum()"
      ],
      "execution_count": 9,
      "outputs": [
        {
          "output_type": "execute_result",
          "data": {
            "text/plain": [
              "Type                          0\n",
              "Distance (km)                 0\n",
              "Duration                      0\n",
              "Average Pace                  0\n",
              "Average Speed (km/h)          0\n",
              "Climb (m)                     0\n",
              "Average Heart Rate (bpm)    214\n",
              "dtype: int64"
            ]
          },
          "metadata": {
            "tags": []
          },
          "execution_count": 9
        }
      ]
    },
    {
      "cell_type": "markdown",
      "metadata": {
        "dc": {
          "key": "19"
        },
        "deletable": false,
        "editable": false,
        "run_control": {
          "frozen": true
        },
        "tags": [
          "context"
        ],
        "id": "L98KMsJbczDQ"
      },
      "source": [
        "## 3. Dealing with missing values\n",
        "<p>As we can see from the last output, there are 214 missing entries for my average heart rate.</p>\n",
        "<p>We can't go back in time to get those data, but we can fill in the missing values with an average value. This process is called <em>mean imputation</em>. When imputing the mean to fill in missing data, we need to consider that the average heart rate varies for different activities (e.g., walking vs. running). We'll filter the DataFrames by activity type (<code>Type</code>) and calculate each activity's mean heart rate, then fill in the missing values with those means.</p>"
      ]
    },
    {
      "cell_type": "code",
      "metadata": {
        "dc": {
          "key": "19"
        },
        "tags": [
          "sample_code"
        ],
        "trusted": false,
        "collapsed": true,
        "id": "YpnXlWiqczDR"
      },
      "source": [
        "# Calculate sample means for heart rate for each training activity type \n",
        "avg_hr_run = df_activities[df_activities['Type'] == 'Running']['Average Heart Rate (bpm)'].mean()\n",
        "avg_hr_cycle = df_activities[df_activities['Type'] == 'Cycling']['Average Heart Rate (bpm)'].mean()\n",
        "\n",
        "# Split whole DataFrame into several, specific for different activities\n",
        "df_run = df_activities[df_activities['Type'] == 'Running'].copy()\n",
        "df_walk = df_activities[df_activities['Type'] == 'Walking'].copy()\n",
        "df_cycle =  df_activities[df_activities['Type'] == 'Cycling'].copy()"
      ],
      "execution_count": 10,
      "outputs": []
    },
    {
      "cell_type": "code",
      "metadata": {
        "id": "jic1natF5vm7"
      },
      "source": [
        "# Filling missing values with counted means  \r\n",
        "df_walk['Average Heart Rate (bpm)'].fillna(110, inplace=True)\r\n",
        "df_run['Average Heart Rate (bpm)'].fillna(int(avg_hr_run), inplace=True)\r\n",
        "df_cycle['Average Heart Rate (bpm)'].fillna(int(avg_hr_cycle), inplace=True)"
      ],
      "execution_count": 11,
      "outputs": []
    },
    {
      "cell_type": "code",
      "metadata": {
        "colab": {
          "base_uri": "https://localhost:8080/"
        },
        "id": "JSh7YJp87IA8",
        "outputId": "d7ec3271-97a1-4d3a-f7de-a36bdf186e00"
      },
      "source": [
        "# Count missing values for each column in running data\r\n",
        "df_run.isnull().sum()"
      ],
      "execution_count": 12,
      "outputs": [
        {
          "output_type": "execute_result",
          "data": {
            "text/plain": [
              "Type                        0\n",
              "Distance (km)               0\n",
              "Duration                    0\n",
              "Average Pace                0\n",
              "Average Speed (km/h)        0\n",
              "Climb (m)                   0\n",
              "Average Heart Rate (bpm)    0\n",
              "dtype: int64"
            ]
          },
          "metadata": {
            "tags": []
          },
          "execution_count": 12
        }
      ]
    },
    {
      "cell_type": "code",
      "metadata": {
        "colab": {
          "base_uri": "https://localhost:8080/",
          "height": 235
        },
        "id": "_I2SbWvy8irP",
        "outputId": "471903f7-52f1-45c9-e1ec-a3364f0200c6"
      },
      "source": [
        "df_run.head(5)"
      ],
      "execution_count": 13,
      "outputs": [
        {
          "output_type": "execute_result",
          "data": {
            "text/html": [
              "<div>\n",
              "<style scoped>\n",
              "    .dataframe tbody tr th:only-of-type {\n",
              "        vertical-align: middle;\n",
              "    }\n",
              "\n",
              "    .dataframe tbody tr th {\n",
              "        vertical-align: top;\n",
              "    }\n",
              "\n",
              "    .dataframe thead th {\n",
              "        text-align: right;\n",
              "    }\n",
              "</style>\n",
              "<table border=\"1\" class=\"dataframe\">\n",
              "  <thead>\n",
              "    <tr style=\"text-align: right;\">\n",
              "      <th></th>\n",
              "      <th>Type</th>\n",
              "      <th>Distance (km)</th>\n",
              "      <th>Duration</th>\n",
              "      <th>Average Pace</th>\n",
              "      <th>Average Speed (km/h)</th>\n",
              "      <th>Climb (m)</th>\n",
              "      <th>Average Heart Rate (bpm)</th>\n",
              "    </tr>\n",
              "    <tr>\n",
              "      <th>Date</th>\n",
              "      <th></th>\n",
              "      <th></th>\n",
              "      <th></th>\n",
              "      <th></th>\n",
              "      <th></th>\n",
              "      <th></th>\n",
              "      <th></th>\n",
              "    </tr>\n",
              "  </thead>\n",
              "  <tbody>\n",
              "    <tr>\n",
              "      <th>2018-11-11 14:05:12</th>\n",
              "      <td>Running</td>\n",
              "      <td>10.44</td>\n",
              "      <td>58:40</td>\n",
              "      <td>5:37</td>\n",
              "      <td>10.68</td>\n",
              "      <td>130</td>\n",
              "      <td>159.0</td>\n",
              "    </tr>\n",
              "    <tr>\n",
              "      <th>2018-11-09 15:02:35</th>\n",
              "      <td>Running</td>\n",
              "      <td>12.84</td>\n",
              "      <td>1:14:12</td>\n",
              "      <td>5:47</td>\n",
              "      <td>10.39</td>\n",
              "      <td>168</td>\n",
              "      <td>159.0</td>\n",
              "    </tr>\n",
              "    <tr>\n",
              "      <th>2018-11-04 16:05:00</th>\n",
              "      <td>Running</td>\n",
              "      <td>13.01</td>\n",
              "      <td>1:15:16</td>\n",
              "      <td>5:47</td>\n",
              "      <td>10.37</td>\n",
              "      <td>171</td>\n",
              "      <td>155.0</td>\n",
              "    </tr>\n",
              "    <tr>\n",
              "      <th>2018-11-01 14:03:58</th>\n",
              "      <td>Running</td>\n",
              "      <td>12.98</td>\n",
              "      <td>1:14:25</td>\n",
              "      <td>5:44</td>\n",
              "      <td>10.47</td>\n",
              "      <td>169</td>\n",
              "      <td>158.0</td>\n",
              "    </tr>\n",
              "    <tr>\n",
              "      <th>2018-10-27 17:01:36</th>\n",
              "      <td>Running</td>\n",
              "      <td>13.02</td>\n",
              "      <td>1:12:50</td>\n",
              "      <td>5:36</td>\n",
              "      <td>10.73</td>\n",
              "      <td>170</td>\n",
              "      <td>154.0</td>\n",
              "    </tr>\n",
              "  </tbody>\n",
              "</table>\n",
              "</div>"
            ],
            "text/plain": [
              "                        Type  ...  Average Heart Rate (bpm)\n",
              "Date                          ...                          \n",
              "2018-11-11 14:05:12  Running  ...                     159.0\n",
              "2018-11-09 15:02:35  Running  ...                     159.0\n",
              "2018-11-04 16:05:00  Running  ...                     155.0\n",
              "2018-11-01 14:03:58  Running  ...                     158.0\n",
              "2018-10-27 17:01:36  Running  ...                     154.0\n",
              "\n",
              "[5 rows x 7 columns]"
            ]
          },
          "metadata": {
            "tags": []
          },
          "execution_count": 13
        }
      ]
    },
    {
      "cell_type": "code",
      "metadata": {
        "colab": {
          "base_uri": "https://localhost:8080/",
          "height": 235
        },
        "id": "KMuIlkUv9kym",
        "outputId": "1d3d2162-b178-4cbd-ac69-7845d0454d7a"
      },
      "source": [
        "df_run.tail(5)"
      ],
      "execution_count": 14,
      "outputs": [
        {
          "output_type": "execute_result",
          "data": {
            "text/html": [
              "<div>\n",
              "<style scoped>\n",
              "    .dataframe tbody tr th:only-of-type {\n",
              "        vertical-align: middle;\n",
              "    }\n",
              "\n",
              "    .dataframe tbody tr th {\n",
              "        vertical-align: top;\n",
              "    }\n",
              "\n",
              "    .dataframe thead th {\n",
              "        text-align: right;\n",
              "    }\n",
              "</style>\n",
              "<table border=\"1\" class=\"dataframe\">\n",
              "  <thead>\n",
              "    <tr style=\"text-align: right;\">\n",
              "      <th></th>\n",
              "      <th>Type</th>\n",
              "      <th>Distance (km)</th>\n",
              "      <th>Duration</th>\n",
              "      <th>Average Pace</th>\n",
              "      <th>Average Speed (km/h)</th>\n",
              "      <th>Climb (m)</th>\n",
              "      <th>Average Heart Rate (bpm)</th>\n",
              "    </tr>\n",
              "    <tr>\n",
              "      <th>Date</th>\n",
              "      <th></th>\n",
              "      <th></th>\n",
              "      <th></th>\n",
              "      <th></th>\n",
              "      <th></th>\n",
              "      <th></th>\n",
              "      <th></th>\n",
              "    </tr>\n",
              "  </thead>\n",
              "  <tbody>\n",
              "    <tr>\n",
              "      <th>2012-09-08 08:35:02</th>\n",
              "      <td>Running</td>\n",
              "      <td>3.27</td>\n",
              "      <td>15:55</td>\n",
              "      <td>4:52</td>\n",
              "      <td>12.32</td>\n",
              "      <td>15</td>\n",
              "      <td>144.0</td>\n",
              "    </tr>\n",
              "    <tr>\n",
              "      <th>2012-09-04 19:12:17</th>\n",
              "      <td>Running</td>\n",
              "      <td>6.26</td>\n",
              "      <td>32:35</td>\n",
              "      <td>5:12</td>\n",
              "      <td>11.53</td>\n",
              "      <td>34</td>\n",
              "      <td>144.0</td>\n",
              "    </tr>\n",
              "    <tr>\n",
              "      <th>2012-09-02 08:41:31</th>\n",
              "      <td>Running</td>\n",
              "      <td>3.14</td>\n",
              "      <td>16:16</td>\n",
              "      <td>5:11</td>\n",
              "      <td>11.56</td>\n",
              "      <td>18</td>\n",
              "      <td>144.0</td>\n",
              "    </tr>\n",
              "    <tr>\n",
              "      <th>2012-08-24 08:13:12</th>\n",
              "      <td>Running</td>\n",
              "      <td>3.15</td>\n",
              "      <td>16:00</td>\n",
              "      <td>5:05</td>\n",
              "      <td>11.82</td>\n",
              "      <td>17</td>\n",
              "      <td>144.0</td>\n",
              "    </tr>\n",
              "    <tr>\n",
              "      <th>2012-08-22 18:53:54</th>\n",
              "      <td>Running</td>\n",
              "      <td>5.69</td>\n",
              "      <td>31:08</td>\n",
              "      <td>5:29</td>\n",
              "      <td>10.95</td>\n",
              "      <td>32</td>\n",
              "      <td>144.0</td>\n",
              "    </tr>\n",
              "  </tbody>\n",
              "</table>\n",
              "</div>"
            ],
            "text/plain": [
              "                        Type  ...  Average Heart Rate (bpm)\n",
              "Date                          ...                          \n",
              "2012-09-08 08:35:02  Running  ...                     144.0\n",
              "2012-09-04 19:12:17  Running  ...                     144.0\n",
              "2012-09-02 08:41:31  Running  ...                     144.0\n",
              "2012-08-24 08:13:12  Running  ...                     144.0\n",
              "2012-08-22 18:53:54  Running  ...                     144.0\n",
              "\n",
              "[5 rows x 7 columns]"
            ]
          },
          "metadata": {
            "tags": []
          },
          "execution_count": 14
        }
      ]
    },
    {
      "cell_type": "markdown",
      "metadata": {
        "dc": {
          "key": "26"
        },
        "deletable": false,
        "editable": false,
        "run_control": {
          "frozen": true
        },
        "tags": [
          "context"
        ],
        "id": "PD4Of7S5czDS"
      },
      "source": [
        "## 4. Plot running data\n",
        "<p>Now we can create our first plot! As we found earlier, most of the activities in my data were running (459 of them to be exact). There are only 29, 18, and two instances for cycling, walking, and unicycling, respectively. So for now, let's focus on plotting the different running metrics.</p>\n",
        "<p>An excellent first visualization is a figure with four subplots, one for each running metric (each numerical column). Each subplot will have a different y-axis, which is explained in each legend. The x-axis, <code>Date</code>, is shared among all subplots.</p>"
      ]
    },
    {
      "cell_type": "code",
      "metadata": {
        "dc": {
          "key": "26"
        },
        "tags": [
          "sample_code"
        ],
        "trusted": false,
        "collapsed": true,
        "colab": {
          "base_uri": "https://localhost:8080/",
          "height": 938
        },
        "id": "vpbR36iNczDT",
        "outputId": "5bdbac51-8b7e-40d2-e526-f0a8b8e9bf43"
      },
      "source": [
        "%matplotlib inline\n",
        "\n",
        "# Import matplotlib, set style and ignore warning\n",
        "import matplotlib.pyplot as plt\n",
        "%matplotlib inline\n",
        "import warnings\n",
        "plt.style.use('ggplot')\n",
        "warnings.filterwarnings(\n",
        "    action='ignore', module='matplotlib.figure', category=UserWarning,\n",
        "    message=('This figure includes Axes that are not compatible with tight_layout, so results might be incorrect.')\n",
        ")\n",
        "\n",
        "# Prepare data subsetting period from 2013 till 2018\n",
        "runs_subset_2013_2018 = df_run\n",
        "\n",
        "# Create, plot and customize in one step\n",
        "runs_subset_2013_2018.plot(subplots=True,\n",
        "                           sharex=False,\n",
        "                           figsize=(12,16),\n",
        "                           linestyle='none',\n",
        "                           marker='o',\n",
        "                           markersize=3,\n",
        "                          )\n",
        "\n",
        "# Show plot\n",
        "plt.show()"
      ],
      "execution_count": 15,
      "outputs": [
        {
          "output_type": "display_data",
          "data": {
            "image/png": "[encoded data removed]",
            "text/plain": [
              "<Figure size 864x1152 with 4 Axes>"
            ]
          },
          "metadata": {
            "tags": []
          }
        }
      ]
    },
    {
      "cell_type": "markdown",
      "metadata": {
        "dc": {
          "key": "33"
        },
        "deletable": false,
        "editable": false,
        "run_control": {
          "frozen": true
        },
        "tags": [
          "context"
        ],
        "id": "OpLmBPy6czDU"
      },
      "source": [
        "## 5. Running statistics\n",
        "<p>No doubt, running helps people stay mentally and physically healthy and productive at any age. And it is great fun! When runners talk to each other about their hobby, we not only discuss our results, but we also discuss different training strategies. </p>\n",
        "<p>You'll know you're with a group of runners if you commonly hear questions like:</p>\n",
        "<ul>\n",
        "<li>What is your average distance?</li>\n",
        "<li>How fast do you run?</li>\n",
        "<li>Do you measure your heart rate?</li>\n",
        "<li>How often do you train?</li>\n",
        "</ul>\n",
        "<p>Let's find the answers to these questions in my data. If you look back at plots in Task 4, you can see the answer to, <em>Do you measure your heart rate?</em> Before 2015: no. To look at the averages, let's only use the data from 2015 through 2018.</p>\n",
        "<p>In pandas, the <code>resample()</code> method is similar to the <code>groupby()</code> method - with <code>resample()</code> you group by a specific time span. We'll use <code>resample()</code> to group the time series data by a sampling period and apply several methods to each sampling period. In our case, we'll resample annually and weekly.</p>"
      ]
    },
    {
      "cell_type": "code",
      "metadata": {
        "dc": {
          "key": "33"
        },
        "tags": [
          "sample_code"
        ],
        "trusted": false,
        "collapsed": true,
        "id": "CP51GXPJczDY"
      },
      "source": [
        "# Prepare running data for the last 4 years\n",
        "runs_subset_2015_2018 = df_run['2018':'2015']"
      ],
      "execution_count": 16,
      "outputs": []
    },
    {
      "cell_type": "code",
      "metadata": {
        "colab": {
          "base_uri": "https://localhost:8080/",
          "height": 136
        },
        "id": "iKF6nmGHCYxN",
        "outputId": "a74d5147-99b2-4a9a-8293-953ce7d0065d"
      },
      "source": [
        "# Calculate annual statistics\r\n",
        "print('How my average run looks in last 4 years:')\r\n",
        "display(display(runs_subset_2015_2018.resample('A').mean().mean()))"
      ],
      "execution_count": 17,
      "outputs": [
        {
          "output_type": "stream",
          "text": [
            "How my average run looks in last 4 years:\n"
          ],
          "name": "stdout"
        },
        {
          "output_type": "display_data",
          "data": {
            "text/plain": [
              "Distance (km)                12.822178\n",
              "Average Speed (km/h)         10.893427\n",
              "Climb (m)                   163.490099\n",
              "Average Heart Rate (bpm)    145.028652\n",
              "dtype: float64"
            ]
          },
          "metadata": {
            "tags": []
          }
        },
        {
          "output_type": "display_data",
          "data": {
            "text/plain": [
              "None"
            ]
          },
          "metadata": {
            "tags": []
          }
        }
      ]
    },
    {
      "cell_type": "code",
      "metadata": {
        "colab": {
          "base_uri": "https://localhost:8080/",
          "height": 136
        },
        "id": "YvDQlqG-CYhQ",
        "outputId": "ed60fbbf-17a6-4579-bebf-67d53320d197"
      },
      "source": [
        "# Calculate weekly statistics\r\n",
        "print('Weekly averages of last 4 years:')\r\n",
        "display(display(runs_subset_2015_2018.resample('W').mean().mean()))"
      ],
      "execution_count": 18,
      "outputs": [
        {
          "output_type": "stream",
          "text": [
            "Weekly averages of last 4 years:\n"
          ],
          "name": "stdout"
        },
        {
          "output_type": "display_data",
          "data": {
            "text/plain": [
              "Distance (km)                12.518176\n",
              "Average Speed (km/h)         10.835473\n",
              "Climb (m)                   158.325444\n",
              "Average Heart Rate (bpm)    144.801775\n",
              "dtype: float64"
            ]
          },
          "metadata": {
            "tags": []
          }
        },
        {
          "output_type": "display_data",
          "data": {
            "text/plain": [
              "None"
            ]
          },
          "metadata": {
            "tags": []
          }
        }
      ]
    },
    {
      "cell_type": "code",
      "metadata": {
        "colab": {
          "base_uri": "https://localhost:8080/"
        },
        "id": "W1Br4klvCevb",
        "outputId": "6f915e13-8a48-4cca-cc84-bcac5c483778"
      },
      "source": [
        "# Mean weekly counts\r\n",
        "weekly_counts_average = weekly_counts_average = runs_subset_2015_2018['Distance (km)'].resample('W').count().mean()\r\n",
        "print('How many trainings per week I had on average:', weekly_counts_average)"
      ],
      "execution_count": 19,
      "outputs": [
        {
          "output_type": "stream",
          "text": [
            "How many trainings per week I had on average: 1.5\n"
          ],
          "name": "stdout"
        }
      ]
    },
    {
      "cell_type": "markdown",
      "metadata": {
        "dc": {
          "key": "40"
        },
        "deletable": false,
        "editable": false,
        "run_control": {
          "frozen": true
        },
        "tags": [
          "context"
        ],
        "id": "CfSXhfnFczDa"
      },
      "source": [
        "## 6. Visualization with averages\n",
        "<p>Let's plot the long term averages of my distance run and my heart rate with their raw data to visually compare the averages to each training session. Again, we'll use the data from 2015 through 2018.</p>\n",
        "<p>In this task, we will use <code>matplotlib</code> functionality for plot creation and customization.</p>"
      ]
    },
    {
      "cell_type": "code",
      "metadata": {
        "dc": {
          "key": "40"
        },
        "tags": [
          "sample_code"
        ],
        "trusted": false,
        "collapsed": true,
        "colab": {
          "base_uri": "https://localhost:8080/",
          "height": 493
        },
        "id": "HSwacMT-czDf",
        "outputId": "981a137a-c433-4056-b42b-93a88d42b093"
      },
      "source": [
        "# Prepare data\n",
        "runs_subset_2015_2018 = df_run['2018':'2015']\n",
        "runs_distance = runs_subset_2015_2018['Distance (km)']\n",
        "runs_hr = runs_subset_2015_2018['Average Heart Rate (bpm)']\n",
        "\n",
        "# Create plot\n",
        "fig, (ax1, ax2) = plt.subplots(2, 1, sharex=True, figsize=(12,8))\n",
        "\n",
        "# Plot and customize first subplot\n",
        "runs_distance.plot(ax=ax1)\n",
        "ax1.set(ylabel='Distance (km)', title='Historical data with averages')\n",
        "ax1.axhline(runs_distance.mean(), color='blue', linewidth=1, linestyle='-.')\n",
        "\n",
        "# Plot and customize second subplot\n",
        "runs_hr.plot(ax=ax2, color='gray')\n",
        "ax2.set(xlabel='Date', ylabel='Average Heart Rate (bpm)')\n",
        "ax2.axhline(runs_hr.mean(), color='blue', linewidth=1, linestyle='-.')\n",
        "\n",
        "# Show plot\n",
        "plt.show()"
      ],
      "execution_count": 20,
      "outputs": [
        {
          "output_type": "display_data",
          "data": {
            "image/png": "[encoded data removed]",
            "text/plain": [
              "<Figure size 864x576 with 2 Axes>"
            ]
          },
          "metadata": {
            "tags": []
          }
        }
      ]
    },
    {
      "cell_type": "markdown",
      "metadata": {
        "dc": {
          "key": "47"
        },
        "deletable": false,
        "editable": false,
        "run_control": {
          "frozen": true
        },
        "tags": [
          "context"
        ],
        "id": "D1TQpVmwczDh"
      },
      "source": [
        "## 7. Did I reach my goals?\n",
        "<p>To motivate myself to run regularly, I set a target goal of running 1000 km per year. Let's visualize my annual running distance (km) from 2013 through 2018 to see if I reached my goal each year. Only stars in the green region indicate success.</p>"
      ]
    },
    {
      "cell_type": "code",
      "metadata": {
        "dc": {
          "key": "47"
        },
        "tags": [
          "sample_code"
        ],
        "trusted": false,
        "collapsed": true,
        "colab": {
          "base_uri": "https://localhost:8080/",
          "height": 354
        },
        "id": "V30d649mczDi",
        "outputId": "4a10d383-5df5-4241-f024-87675a75ecda"
      },
      "source": [
        "# Prepare data\n",
        "df_run_dist_annual = df_run['2018':'2013']['Distance (km)'].resample('A').sum()\n",
        "\n",
        "# Create plot\n",
        "fig = plt.figure(figsize=(8,5))\n",
        "\n",
        "# Plot and customize\n",
        "ax = df_run_dist_annual.plot(marker='*', markersize=14, linewidth=0, color='blue')\n",
        "ax.set(ylim=[0, 1210], \n",
        "       xlim=['2012','2019'],\n",
        "       ylabel='Distance (km)',\n",
        "       xlabel='Years',\n",
        "       title='Annual totals for distance')\n",
        "\n",
        "ax.axhspan(1000, 1210, color='green', alpha=0.4)\n",
        "ax.axhspan(800, 1000, color='yellow', alpha=0.3)\n",
        "ax.axhspan(1,800, color='red', alpha=0.2)\n",
        "\n",
        "# Show plot\n",
        "plt.show()"
      ],
      "execution_count": 21,
      "outputs": [
        {
          "output_type": "display_data",
          "data": {
            "image/png": "[encoded data removed]",
            "text/plain": [
              "<Figure size 576x360 with 1 Axes>"
            ]
          },
          "metadata": {
            "tags": []
          }
        }
      ]
    },
    {
      "cell_type": "markdown",
      "metadata": {
        "dc": {
          "key": "54"
        },
        "deletable": false,
        "editable": false,
        "run_control": {
          "frozen": true
        },
        "tags": [
          "context"
        ],
        "id": "jNkyMjiKczDi"
      },
      "source": [
        "## 8. Am I progressing?\n",
        "<p>Let's dive a little deeper into the data to answer a tricky question: am I progressing in terms of my running skills? </p>\n",
        "<p>To answer this question, we'll decompose my weekly distance run and visually compare it to the raw data. A red trend line will represent the weekly distance run.</p>\n",
        "<p>We are going to use <code>statsmodels</code> library to decompose the weekly trend.</p>"
      ]
    },
    {
      "cell_type": "code",
      "metadata": {
        "dc": {
          "key": "54"
        },
        "tags": [
          "sample_code"
        ],
        "trusted": false,
        "collapsed": true,
        "colab": {
          "base_uri": "https://localhost:8080/",
          "height": 408
        },
        "id": "xhEYL6NcczDk",
        "outputId": "32a91263-fcf0-48bf-c6f1-9595a1c7b21b"
      },
      "source": [
        "# Import required library\n",
        "import statsmodels.api as sm\n",
        "\n",
        "# Prepare data\n",
        "df_run_dist_wkly = df_run['2018':'2013']['Distance (km)'].resample('W').fillna(method = 'bfill')\n",
        "decomposed = sm.tsa.seasonal_decompose(df_run_dist_wkly, extrapolate_trend=1, freq=52)\n",
        "\n",
        "# Create plot\n",
        "fig = plt.figure(figsize=(12,5))\n",
        "\n",
        "# Plot and customize\n",
        "ax = decomposed.trend.plot(label='Trend', linewidth=2)\n",
        "ax = decomposed.observed.plot(label='Observed', linewidth=0.5)\n",
        "\n",
        "ax.legend()\n",
        "ax.set_title('Running distance trend')\n",
        "\n",
        "# Show plot\n",
        "plt.show()"
      ],
      "execution_count": 22,
      "outputs": [
        {
          "output_type": "stream",
          "text": [
            "/usr/local/lib/python3.7/dist-packages/statsmodels/tools/_testing.py:19: FutureWarning: pandas.util.testing is deprecated. Use the functions in the public API at pandas.testing instead.\n",
            "  import pandas.util.testing as tm\n"
          ],
          "name": "stderr"
        },
        {
          "output_type": "display_data",
          "data": {
            "image/png": "[encoded data removed]",
            "text/plain": [
              "<Figure size 864x360 with 1 Axes>"
            ]
          },
          "metadata": {
            "tags": []
          }
        }
      ]
    },
    {
      "cell_type": "markdown",
      "metadata": {
        "dc": {
          "key": "61"
        },
        "deletable": false,
        "editable": false,
        "run_control": {
          "frozen": true
        },
        "tags": [
          "context"
        ],
        "id": "rpgqqaSQczDl"
      },
      "source": [
        "## 9. Training intensity\n",
        "<p>Heart rate is a popular metric used to measure training intensity. Depending on age and fitness level, heart rates are grouped into different zones that people can target depending on training goals. A target heart rate during moderate-intensity activities is about 50-70% of maximum heart rate, while during vigorous physical activity it’s about 70-85% of maximum.</p>\n",
        "<p>We'll create a distribution plot of my heart rate data by training intensity. It will be a visual presentation for the number of activities from predefined training zones. </p>"
      ]
    },
    {
      "cell_type": "code",
      "metadata": {
        "dc": {
          "key": "61"
        },
        "tags": [
          "sample_code"
        ],
        "trusted": false,
        "collapsed": true,
        "colab": {
          "base_uri": "https://localhost:8080/",
          "height": 359
        },
        "id": "8PGCaqwdczDm",
        "outputId": "65aef349-86b2-4048-b3a2-746cb060695d"
      },
      "source": [
        "\n",
        "# Prepare data\n",
        "hr_zones = [100, 125, 133, 142, 151, 173]\n",
        "zone_names = ['Easy', 'Moderate', 'Hard', 'Very hard', 'Maximal']\n",
        "zone_colors = ['green', 'yellow', 'orange', 'tomato', 'red']\n",
        "df_run_hr_all = df_run['2018':'2015-03']['Average Heart Rate (bpm)']\n",
        "\n",
        "# Create plot\n",
        "fig, ax = plt.subplots(figsize=(8,5))\n",
        "\n",
        "# Plot and customize\n",
        "n, bins, patches = ax.hist(df_run_hr_all, bins=hr_zones, alpha=0.5)\n",
        "for i in range(0, len(patches)):\n",
        "    patches[i].set_facecolor(zone_colors[i])\n",
        "\n",
        "ax.set(title='Distribution of HR', ylabel='Number of runs')\n",
        "ax.xaxis.set(ticks=hr_zones)\n",
        "ax.set_xticklabels(labels=zone_names, rotation=-30, ha='left')\n",
        "\n",
        "# Show plot\n",
        "plt.show()"
      ],
      "execution_count": 23,
      "outputs": [
        {
          "output_type": "display_data",
          "data": {
            "image/png": "[encoded data removed]",
            "text/plain": [
              "<Figure size 576x360 with 1 Axes>"
            ]
          },
          "metadata": {
            "tags": []
          }
        }
      ]
    },
    {
      "cell_type": "markdown",
      "metadata": {
        "dc": {
          "key": "68"
        },
        "deletable": false,
        "editable": false,
        "run_control": {
          "frozen": true
        },
        "tags": [
          "context"
        ],
        "id": "rYADvK9iczDw"
      },
      "source": [
        "## 10. Detailed summary report\n",
        "<p>With all this data cleaning, analysis, and visualization, let's create detailed summary tables of my training. </p>\n",
        "<p>To do this, we'll create two tables. The first table will be a summary of the distance (km) and climb (m) variables for each training activity. The second table will list the summary statistics for the average speed (km/hr), climb (m), and distance (km) variables for each training activity.</p>"
      ]
    },
    {
      "cell_type": "code",
      "metadata": {
        "dc": {
          "key": "68"
        },
        "tags": [
          "sample_code"
        ],
        "trusted": false,
        "collapsed": true,
        "colab": {
          "base_uri": "https://localhost:8080/",
          "height": 1000
        },
        "id": "xkGsXudGczDx",
        "outputId": "fd12a2a7-e8ef-4e1e-aaaf-966ae0bd64eb"
      },
      "source": [
        "# Concatenating three DataFrames\n",
        "df_run_walk_cycle = df_run.append([df_walk, df_cycle]).sort_index(ascending=False)\n",
        "\n",
        "dist_climb_cols, speed_col = ['Distance (km)', 'Climb (m)'], ['Average Speed (km/h)']\n",
        "\n",
        "# Calculating total distance and climb in each type of activities\n",
        "df_totals = df_run_walk_cycle.groupby('Type')[dist_climb_cols].sum()\n",
        "\n",
        "print('Totals for different training types:')\n",
        "display(df_totals)\n",
        "\n",
        "# Calculating summary statistics for each type of activities \n",
        "df_summary = df_run_walk_cycle.groupby('Type')[dist_climb_cols + speed_col].describe()\n",
        "\n",
        "# Combine totals with summary\n",
        "for i in dist_climb_cols:\n",
        "    df_summary[i, 'total'] = df_totals[i]\n",
        "\n",
        "print('Summary statistics for different training types:')\n",
        "df_summary.stack()"
      ],
      "execution_count": 24,
      "outputs": [
        {
          "output_type": "stream",
          "text": [
            "Totals for different training types:\n"
          ],
          "name": "stdout"
        },
        {
          "output_type": "display_data",
          "data": {
            "text/html": [
              "<div>\n",
              "<style scoped>\n",
              "    .dataframe tbody tr th:only-of-type {\n",
              "        vertical-align: middle;\n",
              "    }\n",
              "\n",
              "    .dataframe tbody tr th {\n",
              "        vertical-align: top;\n",
              "    }\n",
              "\n",
              "    .dataframe thead th {\n",
              "        text-align: right;\n",
              "    }\n",
              "</style>\n",
              "<table border=\"1\" class=\"dataframe\">\n",
              "  <thead>\n",
              "    <tr style=\"text-align: right;\">\n",
              "      <th></th>\n",
              "      <th>Distance (km)</th>\n",
              "      <th>Climb (m)</th>\n",
              "    </tr>\n",
              "    <tr>\n",
              "      <th>Type</th>\n",
              "      <th></th>\n",
              "      <th></th>\n",
              "    </tr>\n",
              "  </thead>\n",
              "  <tbody>\n",
              "    <tr>\n",
              "      <th>Cycling</th>\n",
              "      <td>680.58</td>\n",
              "      <td>6976</td>\n",
              "    </tr>\n",
              "    <tr>\n",
              "      <th>Running</th>\n",
              "      <td>5224.50</td>\n",
              "      <td>57278</td>\n",
              "    </tr>\n",
              "    <tr>\n",
              "      <th>Walking</th>\n",
              "      <td>33.45</td>\n",
              "      <td>349</td>\n",
              "    </tr>\n",
              "  </tbody>\n",
              "</table>\n",
              "</div>"
            ],
            "text/plain": [
              "         Distance (km)  Climb (m)\n",
              "Type                             \n",
              "Cycling         680.58       6976\n",
              "Running        5224.50      57278\n",
              "Walking          33.45        349"
            ]
          },
          "metadata": {
            "tags": []
          }
        },
        {
          "output_type": "stream",
          "text": [
            "Summary statistics for different training types:\n"
          ],
          "name": "stdout"
        },
        {
          "output_type": "execute_result",
          "data": {
            "text/html": [
              "<div>\n",
              "<style scoped>\n",
              "    .dataframe tbody tr th:only-of-type {\n",
              "        vertical-align: middle;\n",
              "    }\n",
              "\n",
              "    .dataframe tbody tr th {\n",
              "        vertical-align: top;\n",
              "    }\n",
              "\n",
              "    .dataframe thead th {\n",
              "        text-align: right;\n",
              "    }\n",
              "</style>\n",
              "<table border=\"1\" class=\"dataframe\">\n",
              "  <thead>\n",
              "    <tr style=\"text-align: right;\">\n",
              "      <th></th>\n",
              "      <th></th>\n",
              "      <th>Average Speed (km/h)</th>\n",
              "      <th>Climb (m)</th>\n",
              "      <th>Distance (km)</th>\n",
              "    </tr>\n",
              "    <tr>\n",
              "      <th>Type</th>\n",
              "      <th></th>\n",
              "      <th></th>\n",
              "      <th></th>\n",
              "      <th></th>\n",
              "    </tr>\n",
              "  </thead>\n",
              "  <tbody>\n",
              "    <tr>\n",
              "      <th rowspan=\"9\" valign=\"top\">Cycling</th>\n",
              "      <th>25%</th>\n",
              "      <td>16.980000</td>\n",
              "      <td>139.000000</td>\n",
              "      <td>15.530000</td>\n",
              "    </tr>\n",
              "    <tr>\n",
              "      <th>50%</th>\n",
              "      <td>19.500000</td>\n",
              "      <td>199.000000</td>\n",
              "      <td>20.300000</td>\n",
              "    </tr>\n",
              "    <tr>\n",
              "      <th>75%</th>\n",
              "      <td>21.490000</td>\n",
              "      <td>318.000000</td>\n",
              "      <td>29.400000</td>\n",
              "    </tr>\n",
              "    <tr>\n",
              "      <th>count</th>\n",
              "      <td>29.000000</td>\n",
              "      <td>29.000000</td>\n",
              "      <td>29.000000</td>\n",
              "    </tr>\n",
              "    <tr>\n",
              "      <th>max</th>\n",
              "      <td>24.330000</td>\n",
              "      <td>553.000000</td>\n",
              "      <td>49.180000</td>\n",
              "    </tr>\n",
              "    <tr>\n",
              "      <th>mean</th>\n",
              "      <td>19.125172</td>\n",
              "      <td>240.551724</td>\n",
              "      <td>23.468276</td>\n",
              "    </tr>\n",
              "    <tr>\n",
              "      <th>min</th>\n",
              "      <td>11.380000</td>\n",
              "      <td>58.000000</td>\n",
              "      <td>11.410000</td>\n",
              "    </tr>\n",
              "    <tr>\n",
              "      <th>std</th>\n",
              "      <td>3.257100</td>\n",
              "      <td>128.960289</td>\n",
              "      <td>9.451040</td>\n",
              "    </tr>\n",
              "    <tr>\n",
              "      <th>total</th>\n",
              "      <td>NaN</td>\n",
              "      <td>6976.000000</td>\n",
              "      <td>680.580000</td>\n",
              "    </tr>\n",
              "    <tr>\n",
              "      <th rowspan=\"9\" valign=\"top\">Running</th>\n",
              "      <th>25%</th>\n",
              "      <td>10.495000</td>\n",
              "      <td>54.000000</td>\n",
              "      <td>7.415000</td>\n",
              "    </tr>\n",
              "    <tr>\n",
              "      <th>50%</th>\n",
              "      <td>10.980000</td>\n",
              "      <td>91.000000</td>\n",
              "      <td>10.810000</td>\n",
              "    </tr>\n",
              "    <tr>\n",
              "      <th>75%</th>\n",
              "      <td>11.520000</td>\n",
              "      <td>171.000000</td>\n",
              "      <td>13.190000</td>\n",
              "    </tr>\n",
              "    <tr>\n",
              "      <th>count</th>\n",
              "      <td>459.000000</td>\n",
              "      <td>459.000000</td>\n",
              "      <td>459.000000</td>\n",
              "    </tr>\n",
              "    <tr>\n",
              "      <th>max</th>\n",
              "      <td>20.720000</td>\n",
              "      <td>982.000000</td>\n",
              "      <td>38.320000</td>\n",
              "    </tr>\n",
              "    <tr>\n",
              "      <th>mean</th>\n",
              "      <td>11.056296</td>\n",
              "      <td>124.788671</td>\n",
              "      <td>11.382353</td>\n",
              "    </tr>\n",
              "    <tr>\n",
              "      <th>min</th>\n",
              "      <td>5.770000</td>\n",
              "      <td>0.000000</td>\n",
              "      <td>0.760000</td>\n",
              "    </tr>\n",
              "    <tr>\n",
              "      <th>std</th>\n",
              "      <td>0.953273</td>\n",
              "      <td>103.382177</td>\n",
              "      <td>4.937853</td>\n",
              "    </tr>\n",
              "    <tr>\n",
              "      <th>total</th>\n",
              "      <td>NaN</td>\n",
              "      <td>57278.000000</td>\n",
              "      <td>5224.500000</td>\n",
              "    </tr>\n",
              "    <tr>\n",
              "      <th rowspan=\"9\" valign=\"top\">Walking</th>\n",
              "      <th>25%</th>\n",
              "      <td>5.555000</td>\n",
              "      <td>7.000000</td>\n",
              "      <td>1.385000</td>\n",
              "    </tr>\n",
              "    <tr>\n",
              "      <th>50%</th>\n",
              "      <td>5.970000</td>\n",
              "      <td>10.000000</td>\n",
              "      <td>1.485000</td>\n",
              "    </tr>\n",
              "    <tr>\n",
              "      <th>75%</th>\n",
              "      <td>6.512500</td>\n",
              "      <td>15.500000</td>\n",
              "      <td>1.787500</td>\n",
              "    </tr>\n",
              "    <tr>\n",
              "      <th>count</th>\n",
              "      <td>18.000000</td>\n",
              "      <td>18.000000</td>\n",
              "      <td>18.000000</td>\n",
              "    </tr>\n",
              "    <tr>\n",
              "      <th>max</th>\n",
              "      <td>6.910000</td>\n",
              "      <td>112.000000</td>\n",
              "      <td>4.290000</td>\n",
              "    </tr>\n",
              "    <tr>\n",
              "      <th>mean</th>\n",
              "      <td>5.549444</td>\n",
              "      <td>19.388889</td>\n",
              "      <td>1.858333</td>\n",
              "    </tr>\n",
              "    <tr>\n",
              "      <th>min</th>\n",
              "      <td>1.040000</td>\n",
              "      <td>5.000000</td>\n",
              "      <td>1.220000</td>\n",
              "    </tr>\n",
              "    <tr>\n",
              "      <th>std</th>\n",
              "      <td>1.459309</td>\n",
              "      <td>27.110100</td>\n",
              "      <td>0.880055</td>\n",
              "    </tr>\n",
              "    <tr>\n",
              "      <th>total</th>\n",
              "      <td>NaN</td>\n",
              "      <td>349.000000</td>\n",
              "      <td>33.450000</td>\n",
              "    </tr>\n",
              "  </tbody>\n",
              "</table>\n",
              "</div>"
            ],
            "text/plain": [
              "               Average Speed (km/h)     Climb (m)  Distance (km)\n",
              "Type                                                            \n",
              "Cycling 25%               16.980000    139.000000      15.530000\n",
              "        50%               19.500000    199.000000      20.300000\n",
              "        75%               21.490000    318.000000      29.400000\n",
              "        count             29.000000     29.000000      29.000000\n",
              "        max               24.330000    553.000000      49.180000\n",
              "        mean              19.125172    240.551724      23.468276\n",
              "        min               11.380000     58.000000      11.410000\n",
              "        std                3.257100    128.960289       9.451040\n",
              "        total                   NaN   6976.000000     680.580000\n",
              "Running 25%               10.495000     54.000000       7.415000\n",
              "        50%               10.980000     91.000000      10.810000\n",
              "        75%               11.520000    171.000000      13.190000\n",
              "        count            459.000000    459.000000     459.000000\n",
              "        max               20.720000    982.000000      38.320000\n",
              "        mean              11.056296    124.788671      11.382353\n",
              "        min                5.770000      0.000000       0.760000\n",
              "        std                0.953273    103.382177       4.937853\n",
              "        total                   NaN  57278.000000    5224.500000\n",
              "Walking 25%                5.555000      7.000000       1.385000\n",
              "        50%                5.970000     10.000000       1.485000\n",
              "        75%                6.512500     15.500000       1.787500\n",
              "        count             18.000000     18.000000      18.000000\n",
              "        max                6.910000    112.000000       4.290000\n",
              "        mean               5.549444     19.388889       1.858333\n",
              "        min                1.040000      5.000000       1.220000\n",
              "        std                1.459309     27.110100       0.880055\n",
              "        total                   NaN    349.000000      33.450000"
            ]
          },
          "metadata": {
            "tags": []
          },
          "execution_count": 24
        }
      ]
    },
    {
      "cell_type": "markdown",
      "metadata": {
        "dc": {
          "key": "75"
        },
        "deletable": false,
        "editable": false,
        "run_control": {
          "frozen": true
        },
        "tags": [
          "context"
        ],
        "id": "tnZrrp2gczDy"
      },
      "source": [
        "## 11. Fun facts\n",
        "<p>To wrap up, let’s pick some fun facts out of the summary tables and solve the last exercise.</p>\n",
        "<p>These data (my running history) represent 6 years, 2 months and 21 days. And I remember how many running shoes I went through–7.</p>\n",
        "<pre><code>FUN FACTS\n",
        "- Average distance: 11.38 km\n",
        "- Longest distance: 38.32 km\n",
        "- Highest climb: 982 m\n",
        "- Total climb: 57,278 m\n",
        "- Total number of km run: 5,224 km\n",
        "- Total runs: 459\n",
        "- Number of running shoes gone through: 7 pairs\n",
        "</code></pre>\n",
        "<p>The story of Forrest Gump is well known–the man, who for no particular reason decided to go for a \"little run.\" His epic run duration was 3 years, 2 months and 14 days (1169 days). In the picture you can see Forrest’s route of 24,700 km.  </p>\n",
        "<pre><code>FORREST RUN FACTS\n",
        "- Average distance: 21.13 km\n",
        "- Total number of km run: 24,700 km\n",
        "- Total runs: 1169\n",
        "- Number of running shoes gone through: ...\n",
        "</code></pre>\n",
        "<p>Assuming Forest and I go through running shoes at the same rate, figure out how many pairs of shoes Forrest needed for his run.</p>\n",
        "<p><img src=\"https://assets.datacamp.com/production/project_727/img/Forrest_Gump_running_route.png\" alt=\"Forrest's route\" title=\"Little run of Forrest Gump\"></p>"
      ]
    },
    {
      "cell_type": "code",
      "metadata": {
        "dc": {
          "key": "75"
        },
        "tags": [
          "sample_code"
        ],
        "trusted": false,
        "collapsed": true,
        "colab": {
          "base_uri": "https://localhost:8080/"
        },
        "id": "l8L7x8vdczDz",
        "outputId": "1f1d5406-446b-468b-e120-b8a5bc25f67d"
      },
      "source": [
        "# Count average shoes per lifetime (as km per pair) using our fun facts\n",
        "average_shoes_lifetime = 5224 / 7\n",
        "\n",
        "# Count number of shoes for Forrest's run distance\n",
        "shoes_for_forrest_run =  int(24700 / average_shoes_lifetime)\n",
        "\n",
        "print('Forrest Gump would need {} pairs of shoes!'.format(shoes_for_forrest_run))"
      ],
      "execution_count": 25,
      "outputs": [
        {
          "output_type": "stream",
          "text": [
            "Forrest Gump would need 33 pairs of shoes!\n"
          ],
          "name": "stdout"
        }
      ]
    }
  ]
}